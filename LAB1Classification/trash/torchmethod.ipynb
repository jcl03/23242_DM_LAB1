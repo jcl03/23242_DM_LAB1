{
 "cells": [
  {
   "cell_type": "markdown",
   "metadata": {},
   "source": [
    "Data Preprocessing"
   ]
  },
  {
   "cell_type": "code",
   "execution_count": 77,
   "metadata": {},
   "outputs": [],
   "source": [
    "import pandas as pd\n",
    "from sklearn.preprocessing import StandardScaler, LabelEncoder\n",
    "\n",
    "# Load the dataset\n",
    "url = 'https://p19-bot-sign-sg.ciciai.com/tos-alisg-i-b2l6bve69y-sg/ca602a4dd2e04e6ea717f6548ca51fa6.csv~tplv-b2l6bve69y-image.image?rk3s=68e6b6b5&x-expires=1719744177&x-signature=sdxk9fyq5FsGMaG9rN5e5sU%2FFhk%3D'\n",
    "data = pd.read_csv(url)\n",
    "\n",
    "# Handling Missing Values\n",
    "data.fillna(data.mean(), inplace=True)\n",
    "\n",
    "# Encoding Categorical Variables\n",
    "label_encoder = LabelEncoder()\n",
    "data['Sex'] = label_encoder.fit_transform(data['Sex'])\n",
    "\n",
    "# Normalizing Numerical Features\n",
    "numerical_cols = data.columns\n",
    "scaler = StandardScaler()\n",
    "data[numerical_cols] = scaler.fit_transform(data[numerical_cols])"
   ]
  },
  {
   "cell_type": "markdown",
   "metadata": {},
   "source": [
    "Sampling"
   ]
  },
  {
   "cell_type": "code",
   "execution_count": 78,
   "metadata": {},
   "outputs": [],
   "source": [
    "from sklearn.model_selection import train_test_split\n",
    "\n",
    "# Split the data into features and target\n",
    "X = data.drop(columns=['Diabetes'])  # Change target variable to 'Diabetes'\n",
    "y = data['Diabetes']\n",
    "\n",
    "# Ensure target values are either 0 or 1\n",
    "y = y.apply(lambda x: 1 if x > 0 else 0)\n",
    "\n",
    "# Split the data into training and testing sets\n",
    "X_train, X_test, y_train, y_test = train_test_split(X, y, test_size=0.2, random_state=42)\n",
    "\n"
   ]
  },
  {
   "cell_type": "markdown",
   "metadata": {},
   "source": [
    "***LOGISTIC REGRESSION***"
   ]
  },
  {
   "cell_type": "code",
   "execution_count": 79,
   "metadata": {},
   "outputs": [],
   "source": [
    "# Convert data to PyTorch tensors\n",
    "import torch\n",
    "\n",
    "X_train_tensor = torch.tensor(X_train.values, dtype=torch.float32)\n",
    "X_test_tensor = torch.tensor(X_test.values, dtype=torch.float32)\n",
    "y_train_tensor = torch.tensor(y_train.values, dtype=torch.float32).view(-1, 1)\n",
    "y_test_tensor = torch.tensor(y_test.values, dtype=torch.float32).view(-1, 1)"
   ]
  },
  {
   "cell_type": "markdown",
   "metadata": {},
   "source": [
    "Build the model (logistic regresion)"
   ]
  },
  {
   "cell_type": "code",
   "execution_count": 80,
   "metadata": {},
   "outputs": [],
   "source": [
    "import torch.nn as nn\n",
    "\n",
    "# Define the Logistic Regression model\n",
    "class LogisticRegressionModel(nn.Module):\n",
    "    def __init__(self, input_dim):\n",
    "        super(LogisticRegressionModel, self).__init__()\n",
    "        self.linear = nn.Linear(input_dim, 1)\n",
    "    \n",
    "    def forward(self, x):\n",
    "        return torch.sigmoid(self.linear(x))\n",
    "\n",
    "# Initialize the model\n",
    "input_dim = X_train.shape[1]\n",
    "lr_model = LogisticRegressionModel(input_dim)"
   ]
  },
  {
   "cell_type": "markdown",
   "metadata": {},
   "source": [
    "Model Training"
   ]
  },
  {
   "cell_type": "code",
   "execution_count": 81,
   "metadata": {},
   "outputs": [
    {
     "name": "stdout",
     "output_type": "stream",
     "text": [
      "Epoch [10/100], Loss: 0.7427\n",
      "Epoch [20/100], Loss: 0.7192\n",
      "Epoch [30/100], Loss: 0.6986\n",
      "Epoch [40/100], Loss: 0.6806\n",
      "Epoch [50/100], Loss: 0.6648\n",
      "Epoch [60/100], Loss: 0.6510\n",
      "Epoch [70/100], Loss: 0.6389\n",
      "Epoch [80/100], Loss: 0.6282\n",
      "Epoch [90/100], Loss: 0.6187\n",
      "Epoch [100/100], Loss: 0.6103\n"
     ]
    }
   ],
   "source": [
    "import torch.optim as optim\n",
    "\n",
    "# Initialize the loss function and optimizer\n",
    "criterion = nn.BCELoss()\n",
    "optimizer = optim.SGD(lr_model.parameters(), lr=0.01)\n",
    "\n",
    "# Training the model\n",
    "num_epochs = 100\n",
    "for epoch in range(num_epochs):\n",
    "    lr_model.train()\n",
    "    optimizer.zero_grad()\n",
    "    outputs = lr_model(X_train_tensor)\n",
    "    loss = criterion(outputs, y_train_tensor)\n",
    "    loss.backward()\n",
    "    optimizer.step()\n",
    "    \n",
    "    if (epoch+1) % 10 == 0:\n",
    "        print(f'Epoch [{epoch+1}/{num_epochs}], Loss: {loss.item():.4f}')\n",
    "\n",
    "\n",
    "# Save the model\n",
    "torch.save(lr_model.state_dict(), 'logistic_regression_model.pth')"
   ]
  },
  {
   "cell_type": "markdown",
   "metadata": {},
   "source": [
    "model evaluation"
   ]
  },
  {
   "cell_type": "code",
   "execution_count": 82,
   "metadata": {},
   "outputs": [
    {
     "name": "stdout",
     "output_type": "stream",
     "text": [
      "Accuracy: 0.6846\n",
      "Precision: 0.6916\n",
      "Sensitivity (Recall): 0.6632\n",
      "F1 Score: 0.6771\n",
      "Confusion Matrix: TP=4675, TN=5005, FP=2085, FN=2374\n",
      "ROC AUC: 0.7542\n"
     ]
    }
   ],
   "source": [
    "from sklearn.metrics import accuracy_score, precision_score, recall_score, f1_score, confusion_matrix, roc_auc_score\n",
    "\n",
    "# Evaluating the model\n",
    "lr_model.eval()\n",
    "with torch.no_grad():\n",
    "    lr_predicted = lr_model(X_test_tensor).round()\n",
    "    lr_y_test_numpy = y_test_tensor.numpy()\n",
    "    lr_predicted_numpy = lr_predicted.numpy()\n",
    "    lr_y_prob = lr_model(X_test_tensor).numpy()\n",
    "\n",
    "    # Calculate accuracy\n",
    "    lr_accuracy = accuracy_score(lr_y_test_numpy, lr_predicted_numpy)\n",
    "    \n",
    "    # Calculate precision\n",
    "    lr_precision = precision_score(lr_y_test_numpy, lr_predicted_numpy)\n",
    "    \n",
    "    # Calculate sensitivity (recall)\n",
    "    lr_recall = recall_score(lr_y_test_numpy, lr_predicted_numpy)\n",
    "    \n",
    "    # Calculate F1 score\n",
    "    lr_f1 = f1_score(lr_y_test_numpy, lr_predicted_numpy)\n",
    "    \n",
    "    # Calculate confusion matrix\n",
    "    lr_tn, lr_fp, lr_fn, lr_tp = confusion_matrix(lr_y_test_numpy, lr_predicted_numpy).ravel()\n",
    "\n",
    "    # Calculate ROC AUC\n",
    "    lr_roc_auc = roc_auc_score(y_test, lr_y_prob)\n",
    "    \n",
    "    # Print the results\n",
    "    print(f'Accuracy: {lr_accuracy:.4f}')\n",
    "    print(f'Precision: {lr_precision:.4f}')\n",
    "    print(f'Sensitivity (Recall): {lr_recall:.4f}')\n",
    "    print(f'F1 Score: {lr_f1:.4f}')\n",
    "    print(f'Confusion Matrix: TP={lr_tp}, TN={lr_tn}, FP={lr_fp}, FN={lr_fn}')\n",
    "    print(f'ROC AUC: {lr_roc_auc:.4f}')"
   ]
  },
  {
   "cell_type": "markdown",
   "metadata": {},
   "source": [
    "***SVM MODEL***"
   ]
  },
  {
   "cell_type": "markdown",
   "metadata": {},
   "source": [
    "Model Building"
   ]
  },
  {
   "cell_type": "code",
   "execution_count": 83,
   "metadata": {},
   "outputs": [],
   "source": [
    "from sklearn.svm import SVC\n",
    "\n",
    "# Define the SVM model\n",
    "svm_model = SVC(kernel='linear', probability=True)"
   ]
  },
  {
   "cell_type": "markdown",
   "metadata": {},
   "source": [
    "Model Training"
   ]
  },
  {
   "cell_type": "code",
   "execution_count": 84,
   "metadata": {},
   "outputs": [],
   "source": [
    "# Train the model\n",
    "svm_model.fit(X_train, y_train)\n",
    "svm_pred = svm_model.predict(X_test)\n",
    "svm_prob = svm_model.predict_proba(X_test)[:, 1]\n",
    "\n",
    "# Save the model\n",
    "import joblib\n",
    "svm_model_path = 'svm_model.pkl'"
   ]
  },
  {
   "cell_type": "markdown",
   "metadata": {},
   "source": [
    "Model Evalutaion"
   ]
  },
  {
   "cell_type": "code",
   "execution_count": 85,
   "metadata": {},
   "outputs": [
    {
     "name": "stdout",
     "output_type": "stream",
     "text": [
      "Accuracy: 0.7464\n",
      "Precision: 0.7247\n",
      "Sensitivity (Recall): 0.7925\n",
      "F1 Score: 0.7571\n",
      "Confusion Matrix: TP=5586, TN=4968, FP=2122, FN=1463\n",
      "ROC AUC: 0.8228\n"
     ]
    }
   ],
   "source": [
    "import pandas as pd\n",
    "\n",
    "# Predict the test set results\n",
    "svm_y_pred = svm_model.predict(X_test)\n",
    "svm_y_prob = svm_model.decision_function(X_test)\n",
    "\n",
    "# Calculate accuracy\n",
    "svm_accuracy = accuracy_score(y_test, svm_y_pred)\n",
    "\n",
    "# Calculate precision\n",
    "svm_precision = precision_score(y_test, svm_y_pred)\n",
    "\n",
    "# Calculate sensitivity (recall)\n",
    "svm_recall = recall_score(y_test, svm_y_pred)\n",
    "\n",
    "# Calculate F1 score\n",
    "svm_f1 = f1_score(y_test, svm_y_pred)\n",
    "\n",
    "# Calculate confusion matrix\n",
    "svm_tn, svm_fp, svm_fn, svm_tp = confusion_matrix(y_test, svm_y_pred).ravel()\n",
    "\n",
    "# Calculate ROC AUC\n",
    "svm_roc_auc = roc_auc_score(y_test, svm_y_prob)\n",
    "\n",
    "# Print the results\n",
    "print(f'Accuracy: {svm_accuracy:.4f}')\n",
    "print(f'Precision: {svm_precision:.4f}')\n",
    "print(f'Sensitivity (Recall): {svm_recall:.4f}')\n",
    "print(f'F1 Score: {svm_f1:.4f}')\n",
    "print(f'Confusion Matrix: TP={svm_tp}, TN={svm_tn}, FP={svm_fp}, FN={svm_fn}')\n",
    "print(f'ROC AUC: {svm_roc_auc:.4f}')"
   ]
  },
  {
   "cell_type": "markdown",
   "metadata": {},
   "source": [
    "***compare 2 model***"
   ]
  },
  {
   "cell_type": "markdown",
   "metadata": {},
   "source": [
    "Cross validation"
   ]
  },
  {
   "cell_type": "code",
   "execution_count": null,
   "metadata": {},
   "outputs": [],
   "source": [
    "#perform cross validation\n",
    "from sklearn.model_selection import cross_val_score\n",
    "\n",
    "# Perform 5-fold cross validation\n",
    "lr_cv_scores = cross_val_score(lr_model, X, y, cv=5, scoring='accuracy')\n",
    "svm_cv_scores = cross_val_score(svm_model, X, y, cv=5, scoring='accuracy')\n",
    "\n",
    "# Print the cross validation scores\n",
    "print('Logistic Regression CV Scores:', lr_cv_scores)\n",
    "print('SVM CV Scores:', svm_cv_scores)"
   ]
  },
  {
   "cell_type": "markdown",
   "metadata": {},
   "source": [
    "Confidence intervals"
   ]
  },
  {
   "cell_type": "code",
   "execution_count": 128,
   "metadata": {},
   "outputs": [
    {
     "ename": "NameError",
     "evalue": "name 'np' is not defined",
     "output_type": "error",
     "traceback": [
      "\u001b[1;31m---------------------------------------------------------------------------\u001b[0m",
      "\u001b[1;31mNameError\u001b[0m                                 Traceback (most recent call last)",
      "Cell \u001b[1;32mIn[128], line 14\u001b[0m\n\u001b[0;32m     11\u001b[0m     margin_of_error \u001b[38;5;241m=\u001b[39m se \u001b[38;5;241m*\u001b[39m \u001b[38;5;241m1.96\u001b[39m  \u001b[38;5;66;03m# For 95% confidence interval\u001b[39;00m\n\u001b[0;32m     12\u001b[0m     \u001b[38;5;28;01mreturn\u001b[39;00m mean, margin_of_error\n\u001b[1;32m---> 14\u001b[0m logistic_ci \u001b[38;5;241m=\u001b[39m {metric: \u001b[43mconfidence_interval\u001b[49m\u001b[43m(\u001b[49m\u001b[43m[\u001b[49m\u001b[43mlogistic_metrics\u001b[49m\u001b[43m[\u001b[49m\u001b[43mi\u001b[49m\u001b[43m]\u001b[49m\u001b[43m]\u001b[49m\u001b[43m)\u001b[49m \u001b[38;5;28;01mfor\u001b[39;00m i, metric \u001b[38;5;129;01min\u001b[39;00m \u001b[38;5;28menumerate\u001b[39m([\u001b[38;5;124m'\u001b[39m\u001b[38;5;124maccuracy\u001b[39m\u001b[38;5;124m'\u001b[39m, \u001b[38;5;124m'\u001b[39m\u001b[38;5;124mprecision\u001b[39m\u001b[38;5;124m'\u001b[39m, \u001b[38;5;124m'\u001b[39m\u001b[38;5;124mrecall\u001b[39m\u001b[38;5;124m'\u001b[39m, \u001b[38;5;124m'\u001b[39m\u001b[38;5;124mf1\u001b[39m\u001b[38;5;124m'\u001b[39m, \u001b[38;5;124m'\u001b[39m\u001b[38;5;124mroc_auc\u001b[39m\u001b[38;5;124m'\u001b[39m])}\n\u001b[0;32m     15\u001b[0m svm_ci \u001b[38;5;241m=\u001b[39m {metric: confidence_interval([svm_metrics[i]]) \u001b[38;5;28;01mfor\u001b[39;00m i, metric \u001b[38;5;129;01min\u001b[39;00m \u001b[38;5;28menumerate\u001b[39m([\u001b[38;5;124m'\u001b[39m\u001b[38;5;124maccuracy\u001b[39m\u001b[38;5;124m'\u001b[39m, \u001b[38;5;124m'\u001b[39m\u001b[38;5;124mprecision\u001b[39m\u001b[38;5;124m'\u001b[39m, \u001b[38;5;124m'\u001b[39m\u001b[38;5;124mrecall\u001b[39m\u001b[38;5;124m'\u001b[39m, \u001b[38;5;124m'\u001b[39m\u001b[38;5;124mf1\u001b[39m\u001b[38;5;124m'\u001b[39m, \u001b[38;5;124m'\u001b[39m\u001b[38;5;124mroc_auc\u001b[39m\u001b[38;5;124m'\u001b[39m])}\n\u001b[0;32m     17\u001b[0m \u001b[38;5;28mprint\u001b[39m(\u001b[38;5;124m'\u001b[39m\u001b[38;5;124mLogistic Regression Confidence Intervals:\u001b[39m\u001b[38;5;124m'\u001b[39m)\n",
      "Cell \u001b[1;32mIn[128], line 9\u001b[0m, in \u001b[0;36mconfidence_interval\u001b[1;34m(data, confidence)\u001b[0m\n\u001b[0;32m      7\u001b[0m \u001b[38;5;28;01mdef\u001b[39;00m \u001b[38;5;21mconfidence_interval\u001b[39m(data, confidence\u001b[38;5;241m=\u001b[39m\u001b[38;5;241m0.95\u001b[39m):\n\u001b[0;32m      8\u001b[0m     n \u001b[38;5;241m=\u001b[39m \u001b[38;5;28mlen\u001b[39m(data)\n\u001b[1;32m----> 9\u001b[0m     mean \u001b[38;5;241m=\u001b[39m \u001b[43mnp\u001b[49m\u001b[38;5;241m.\u001b[39mmean(data)\n\u001b[0;32m     10\u001b[0m     se \u001b[38;5;241m=\u001b[39m sem(data)\n\u001b[0;32m     11\u001b[0m     margin_of_error \u001b[38;5;241m=\u001b[39m se \u001b[38;5;241m*\u001b[39m \u001b[38;5;241m1.96\u001b[39m  \u001b[38;5;66;03m# For 95% confidence interval\u001b[39;00m\n",
      "\u001b[1;31mNameError\u001b[0m: name 'np' is not defined"
     ]
    }
   ],
   "source": [
    "# Confidence Intervals\n",
    "from scipy.stats import sem\n",
    "import numpy as np\n",
    "\n",
    "logistic_metrics = [lr_accuracy, lr_precision, lr_recall, lr_f1, lr_roc_auc, lr_tn, lr_fp, lr_fn, lr_tp]\n",
    "svm_metrics = [svm_accuracy, svm_precision, svm_recall, svm_f1, svm_roc_auc, svm_tn, svm_fp, svm_fn, svm_tp]\n",
    "\n",
    "def confidence_interval(data, confidence=0.95):\n",
    "    n = len(data)\n",
    "    mean = np.mean(data)\n",
    "    se = sem(data)\n",
    "    margin_of_error = se * 1.96  # For 95% confidence interval\n",
    "    return mean, margin_of_error\n",
    "\n",
    "logistic_ci = {metric: confidence_interval([logistic_metrics[i]]) for i, metric in enumerate(['accuracy', 'precision', 'recall', 'f1', 'roc_auc'])}\n",
    "svm_ci = {metric: confidence_interval([svm_metrics[i]]) for i, metric in enumerate(['accuracy', 'precision', 'recall', 'f1', 'roc_auc'])}\n",
    "\n",
    "print('Logistic Regression Confidence Intervals:')\n",
    "print(logistic_ci)\n",
    "print('SVM Confidence Intervals:')\n",
    "print(svm_ci)"
   ]
  },
  {
   "cell_type": "code",
   "execution_count": 125,
   "metadata": {},
   "outputs": [
    {
     "data": {
      "image/png": "[encoded data removed]",
      "text/plain": [
       "<Figure size 1000x600 with 1 Axes>"
      ]
     },
     "metadata": {},
     "output_type": "display_data"
    }
   ],
   "source": [
    "import matplotlib.pyplot as plt\n",
    "from sklearn.metrics import roc_curve\n",
    "\n",
    "lr_prob = lr_model(X_test_tensor).detach().numpy().flatten()\n",
    "\n",
    "\n",
    "\n",
    "logistic_fpr, logistic_tpr, _ = roc_curve(y_test, lr_prob)\n",
    "svm_fpr, svm_tpr, _ = roc_curve(y_test, svm_prob)\n",
    "\n",
    "# Plot ROC Curves\n",
    "plt.figure(figsize=(10, 6))\n",
    "plt.plot(logistic_fpr, logistic_tpr, label=f'Logistic Regression (AUC = {logistic_metrics[4]:.2f})')\n",
    "plt.plot(svm_fpr, svm_tpr, label=f'SVM (AUC = {svm_metrics[4]:.2f})')\n",
    "plt.plot([0, 1], [0, 1], 'k--')\n",
    "plt.xlim([0.0, 1.0])\n",
    "plt.ylim([0.0, 1.05])\n",
    "plt.xlabel('False Positive Rate')\n",
    "plt.ylabel('True Positive Rate')\n",
    "plt.title('Receiver Operating Characteristic (ROC) Curve')\n",
    "plt.legend(loc='lower right')\n",
    "plt.show()"
   ]
  },
  {
   "cell_type": "markdown",
   "metadata": {},
   "source": [
    "Performnce Comparison Table"
   ]
  },
  {
   "cell_type": "code",
   "execution_count": 126,
   "metadata": {},
   "outputs": [
    {
     "name": "stdout",
     "output_type": "stream",
     "text": [
      "| Metric               |   Logistic Regression | Logistic Regression CI         |         SVM | SVM CI                         |\n",
      "|:---------------------|----------------------:|:-------------------------------|------------:|:-------------------------------|\n",
      "| Accuracy             |              0.684631 | (0.6846311620340901, nan, nan) |    0.746446 | (0.7464460004243582, nan, nan) |\n",
      "| Precision            |              0.691568 | (0.6915680473372781, nan, nan) |    0.724702 | (0.7247016087182149, nan, nan) |\n",
      "| Sensitivity (Recall) |              0.663215 | (0.6632146403745212, nan, nan) |    0.792453 | (0.7924528301886793, nan, nan) |\n",
      "| F1 Score             |              0.677095 | (0.6770946484176986, nan, nan) |    0.757064 | (0.7570644439926815, nan, nan) |\n",
      "| ROC AUC              |              0.754203 | (0.7542031489827103, nan, nan) |    0.822764 | (0.8227643049129596, nan, nan) |\n",
      "| True Positive (TP)   |           5005        |                                | 4968        |                                |\n",
      "| True Negative (TN)   |           2085        |                                | 2122        |                                |\n",
      "| False Positive (FP)  |           2374        |                                | 1463        |                                |\n",
      "| False Negative (FN)  |           4675        |                                | 5586        |                                |\n"
     ]
    }
   ],
   "source": [
    "import pandas as pd\n",
    "\n",
    "# Assuming logistic_metrics, logistic_ci, svm_metrics, svm_ci are predefined\n",
    "\n",
    "\n",
    "# Creating the DataFrame\n",
    "comparison_df = pd.DataFrame({\n",
    "    'Metric': ['Accuracy', 'Precision', 'Sensitivity (Recall)', 'F1 Score', 'ROC AUC', 'True Positive (TP)', 'True Negative (TN)', 'False Positive (FP)', 'False Negative (FN)'],\n",
    "    'Logistic Regression': logistic_metrics,\n",
    "    'Logistic Regression CI': [logistic_ci[metric] for metric in ['accuracy', 'precision', 'recall', 'f1', 'roc_auc']] + [None]*4,\n",
    "    'SVM': svm_metrics,\n",
    "    'SVM CI': [svm_ci[metric] for metric in ['accuracy', 'precision', 'recall', 'f1', 'roc_auc']]  + [None]*4\n",
    "})\n",
    "\n",
    "# Set the Metric column as the index for better readability\n",
    "comparison_df.set_index('Metric', inplace=True)\n",
    "\n",
    "# Display the DataFrame\n",
    "print(comparison_df.to_markdown())\n",
    "\n"
   ]
  }
 ],
 "metadata": {
  "kernelspec": {
   "display_name": "Python 3",
   "language": "python",
   "name": "python3"
  },
  "language_info": {
   "codemirror_mode": {
    "name": "ipython",
    "version": 3
   },
   "file_extension": ".py",
   "mimetype": "text/x-python",
   "name": "python",
   "nbconvert_exporter": "python",
   "pygments_lexer": "ipython3",
   "version": "3.12.2"
  }
 },
 "nbformat": 4,
 "nbformat_minor": 2
}
