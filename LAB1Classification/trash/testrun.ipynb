{
 "cells": [
  {
   "cell_type": "markdown",
   "metadata": {},
   "source": [
    "Import library"
   ]
  },
  {
   "cell_type": "code",
   "execution_count": 1,
   "metadata": {},
   "outputs": [
    {
     "name": "stdout",
     "output_type": "stream",
     "text": [
      "CUDA Available: True\n",
      "Number of GPUs: 1\n",
      "Current GPU: 0\n",
      "GPU Name: NVIDIA GeForce RTX 4060 Laptop GPU\n"
     ]
    }
   ],
   "source": [
    "import torch\n",
    "\n",
    "# Check if CUDA (GPU support) is available\n",
    "print(\"CUDA Available:\", torch.cuda.is_available())\n",
    "\n",
    "# Get the number of GPUs available\n",
    "print(\"Number of GPUs:\", torch.cuda.device_count())\n",
    "\n",
    "# Get the current active GPU (if any)\n",
    "print(\"Current GPU:\", torch.cuda.current_device())\n",
    "\n",
    "# Get the name of the current GPU\n",
    "print(\"GPU Name:\", torch.cuda.get_device_name(torch.cuda.current_device()))\n"
   ]
  },
  {
   "cell_type": "code",
   "execution_count": 3,
   "metadata": {},
   "outputs": [
    {
     "ename": "ModuleNotFoundError",
     "evalue": "No module named 'tensorflow'",
     "output_type": "error",
     "traceback": [
      "\u001b[1;31m---------------------------------------------------------------------------\u001b[0m",
      "\u001b[1;31mModuleNotFoundError\u001b[0m                       Traceback (most recent call last)",
      "Cell \u001b[1;32mIn[3], line 10\u001b[0m\n\u001b[0;32m      8\u001b[0m \u001b[38;5;28;01mfrom\u001b[39;00m \u001b[38;5;21;01msklearn\u001b[39;00m\u001b[38;5;21;01m.\u001b[39;00m\u001b[38;5;21;01msvm\u001b[39;00m \u001b[38;5;28;01mimport\u001b[39;00m SVC\n\u001b[0;32m      9\u001b[0m \u001b[38;5;28;01mfrom\u001b[39;00m \u001b[38;5;21;01msklearn\u001b[39;00m\u001b[38;5;21;01m.\u001b[39;00m\u001b[38;5;21;01mmetrics\u001b[39;00m \u001b[38;5;28;01mimport\u001b[39;00m classification_report, accuracy_score\n\u001b[1;32m---> 10\u001b[0m \u001b[38;5;28;01mimport\u001b[39;00m \u001b[38;5;21;01mtensorflow\u001b[39;00m \u001b[38;5;28;01mas\u001b[39;00m \u001b[38;5;21;01mtf\u001b[39;00m\n\u001b[0;32m     11\u001b[0m \u001b[38;5;28;01mfrom\u001b[39;00m \u001b[38;5;21;01mtensorflow\u001b[39;00m\u001b[38;5;21;01m.\u001b[39;00m\u001b[38;5;21;01mkeras\u001b[39;00m\u001b[38;5;21;01m.\u001b[39;00m\u001b[38;5;21;01mmodels\u001b[39;00m \u001b[38;5;28;01mimport\u001b[39;00m Sequential\n\u001b[0;32m     12\u001b[0m \u001b[38;5;28;01mfrom\u001b[39;00m \u001b[38;5;21;01mtensorflow\u001b[39;00m\u001b[38;5;21;01m.\u001b[39;00m\u001b[38;5;21;01mkeras\u001b[39;00m\u001b[38;5;21;01m.\u001b[39;00m\u001b[38;5;21;01mlayers\u001b[39;00m \u001b[38;5;28;01mimport\u001b[39;00m Dense\n",
      "\u001b[1;31mModuleNotFoundError\u001b[0m: No module named 'tensorflow'"
     ]
    }
   ],
   "source": [
    "import numpy as np\n",
    "import pandas as pd\n",
    "from sklearn.model_selection import train_test_split\n",
    "from sklearn.preprocessing import StandardScaler\n",
    "from sklearn.linear_model import LogisticRegression\n",
    "from sklearn.tree import DecisionTreeClassifier\n",
    "from sklearn.ensemble import RandomForestClassifier, GradientBoostingClassifier\n",
    "from sklearn.svm import SVC\n",
    "from sklearn.metrics import classification_report, accuracy_score\n",
    "import tensorflow as tf\n",
    "from tensorflow.keras.models import Sequential\n",
    "from tensorflow.keras.layers import Dense"
   ]
  },
  {
   "cell_type": "markdown",
   "metadata": {},
   "source": [
    "CHeck GPU"
   ]
  },
  {
   "cell_type": "code",
   "execution_count": null,
   "metadata": {},
   "outputs": [
    {
     "name": "stdout",
     "output_type": "stream",
     "text": [
      "Num GPUs Available:  0\n",
      "GPU:  []\n"
     ]
    }
   ],
   "source": [
    "import tensorflow as tf\n",
    "print(\"Num GPUs Available: \", len(tf.config.experimental.list_physical_devices('GPU')))\n",
    "print(\"GPU: \", tf.config.experimental.list_physical_devices('GPU'))"
   ]
  },
  {
   "cell_type": "markdown",
   "metadata": {},
   "source": [
    "Load file"
   ]
  },
  {
   "cell_type": "code",
   "execution_count": null,
   "metadata": {},
   "outputs": [],
   "source": [
    "#data, load csv dataset\n",
    "data = pd.read_csv('diabetes_data.csv')"
   ]
  },
  {
   "cell_type": "markdown",
   "metadata": {},
   "source": [
    "preprocess data"
   ]
  },
  {
   "cell_type": "code",
   "execution_count": null,
   "metadata": {},
   "outputs": [
    {
     "name": "stdout",
     "output_type": "stream",
     "text": [
      "    Age  Sex  HighChol  CholCheck   BMI  Smoker  HeartDiseaseorAttack  \\\n",
      "0   4.0  1.0       0.0        1.0  26.0     0.0                   0.0   \n",
      "1  12.0  1.0       1.0        1.0  26.0     1.0                   0.0   \n",
      "2  13.0  1.0       0.0        1.0  26.0     0.0                   0.0   \n",
      "3  11.0  1.0       1.0        1.0  28.0     1.0                   0.0   \n",
      "4   8.0  0.0       0.0        1.0  29.0     1.0                   0.0   \n",
      "\n",
      "   PhysActivity  Fruits  Veggies  HvyAlcoholConsump  GenHlth  MentHlth  \\\n",
      "0           1.0     0.0      1.0                0.0      3.0       5.0   \n",
      "1           0.0     1.0      0.0                0.0      3.0       0.0   \n",
      "2           1.0     1.0      1.0                0.0      1.0       0.0   \n",
      "3           1.0     1.0      1.0                0.0      3.0       0.0   \n",
      "4           1.0     1.0      1.0                0.0      2.0       0.0   \n",
      "\n",
      "   PhysHlth  DiffWalk  Stroke  HighBP  \n",
      "0      30.0       0.0     0.0     1.0  \n",
      "1       0.0       0.0     1.0     1.0  \n",
      "2      10.0       0.0     0.0     0.0  \n",
      "3       3.0       0.0     0.0     1.0  \n",
      "4       0.0       0.0     0.0     0.0  \n",
      "0    0.0\n",
      "1    0.0\n",
      "2    0.0\n",
      "3    0.0\n",
      "4    0.0\n",
      "Name: Diabetes, dtype: float64\n"
     ]
    }
   ],
   "source": [
    "# Load and preprocess the data (assuming the data is already loaded in the variable `data`)\n",
    "X = data.drop('Diabetes', axis=1)\n",
    "y = data['Diabetes']\n",
    "\n",
    "#show results after preprocessing\n",
    "print(X.head())\n",
    "print(y.head())\n",
    "\n"
   ]
  },
  {
   "cell_type": "markdown",
   "metadata": {},
   "source": [
    "Spilt the data"
   ]
  },
  {
   "cell_type": "code",
   "execution_count": null,
   "metadata": {},
   "outputs": [
    {
     "name": "stdout",
     "output_type": "stream",
     "text": [
      "(56553, 17) (14139, 17) (56553,) (14139,)\n"
     ]
    }
   ],
   "source": [
    "# Split the data\n",
    "X_train, X_test, y_train, y_test = train_test_split(X, y, test_size=0.2, random_state=42)\n",
    "\n",
    "print(X_train.shape, X_test.shape, y_train.shape, y_test.shape)"
   ]
  },
  {
   "cell_type": "markdown",
   "metadata": {},
   "source": [
    "Standardize"
   ]
  },
  {
   "cell_type": "code",
   "execution_count": null,
   "metadata": {},
   "outputs": [
    {
     "name": "stdout",
     "output_type": "stream",
     "text": [
      "[[ 0.84937208  1.08688719 -1.05078118  0.16048645 -0.68737118 -0.95190912\n",
      "  -0.4149166   0.64752549 -1.26086431  0.51653802 -0.21329923  1.04867612\n",
      "  -0.45926148 -0.27671732 -0.57903136 -0.25673233  0.8807157 ]\n",
      " [ 0.84937208 -0.92005868  0.95167293  0.16048645 -0.40577633  1.05052045\n",
      "   2.41012292 -1.54434074 -1.26086431 -1.93596593 -0.21329923  1.94810711\n",
      "  -0.45926148  2.41214773  1.72702219 -0.25673233  0.8807157 ]\n",
      " [-0.20216445 -0.92005868 -1.05078118  0.16048645 -0.40577633  1.05052045\n",
      "  -0.4149166   0.64752549 -1.26086431 -1.93596593 -0.21329923  1.04867612\n",
      "   0.76825318  2.11338495  1.72702219 -0.25673233  0.8807157 ]\n",
      " [ 1.19988426 -0.92005868  0.95167293  0.16048645 -0.68737118 -0.95190912\n",
      "  -0.4149166   0.64752549 -1.26086431 -1.93596593 -0.21329923  0.14924514\n",
      "  -0.45926148 -0.5754801  -0.57903136 -0.25673233 -1.13544019]\n",
      " [-1.25370098 -0.92005868  0.95167293  0.16048645 -0.54657376  1.05052045\n",
      "  -0.4149166   0.64752549 -1.26086431 -1.93596593  4.68824947  0.14924514\n",
      "  -0.45926148 -0.37630491  1.72702219 -0.25673233  0.8807157 ]]\n",
      "[[ 0.4988599  -0.92005868  0.95167293  0.16048645 -0.96896604  1.05052045\n",
      "  -0.4149166   0.64752549 -1.26086431  0.51653802 -0.21329923  1.04867612\n",
      "  -0.45926148 -0.5754801  -0.57903136 -0.25673233 -1.13544019]\n",
      " [ 1.55039643 -0.92005868 -1.05078118  0.16048645  0.43900824  1.05052045\n",
      "  -0.4149166  -1.54434074  0.79310675  0.51653802 -0.21329923  0.14924514\n",
      "  -0.45926148 -0.27671732  1.72702219 -0.25673233 -1.13544019]\n",
      " [-0.20216445  1.08688719  0.95167293  0.16048645 -0.40577633  1.05052045\n",
      "  -0.4149166   0.64752549  0.79310675  0.51653802 -0.21329923 -0.75018585\n",
      "  -0.45926148 -0.07754213 -0.57903136 -0.25673233  0.8807157 ]\n",
      " [-0.55267663  1.08688719  0.95167293  0.16048645 -0.12418147  1.05052045\n",
      "  -0.4149166  -1.54434074  0.79310675 -1.93596593 -0.21329923  0.14924514\n",
      "  -0.45926148 -0.07754213 -0.57903136 -0.25673233 -1.13544019]\n",
      " [-0.90318881  1.08688719 -1.05078118  0.16048645  2.41017222 -0.95190912\n",
      "  -0.4149166   0.64752549  0.79310675  0.51653802 -0.21329923  1.04867612\n",
      "   3.22328251  0.42039584  1.72702219 -0.25673233  0.8807157 ]]\n"
     ]
    }
   ],
   "source": [
    "# Standardize the features\n",
    "scaler = StandardScaler()\n",
    "X_train = scaler.fit_transform(X_train)\n",
    "X_test = scaler.transform(X_test)\n",
    "\n",
    "print(X_train[:5])\n",
    "print(X_test[:5])"
   ]
  },
  {
   "cell_type": "markdown",
   "metadata": {},
   "source": [
    "Define a function to train and evaluate models"
   ]
  },
  {
   "cell_type": "code",
   "execution_count": null,
   "metadata": {},
   "outputs": [
    {
     "name": "stderr",
     "output_type": "stream",
     "text": [
      "c:\\Users\\jiach\\AppData\\Local\\Programs\\Python\\Python312\\Lib\\site-packages\\keras\\src\\layers\\core\\dense.py:87: UserWarning: Do not pass an `input_shape`/`input_dim` argument to a layer. When using Sequential models, prefer using an `Input(shape)` object as the first layer in the model instead.\n",
      "  super().__init__(activity_regularizer=activity_regularizer, **kwargs)\n"
     ]
    }
   ],
   "source": [
    "# Define a function to train and evaluate models\n",
    "def train_evaluate_model(model, X_train, y_train, X_test, y_test):\n",
    "    model.fit(X_train, y_train)\n",
    "    y_pred = model.predict(X_test)\n",
    "    accuracy = accuracy_score(y_test, y_pred)\n",
    "    report = classification_report(y_test, y_pred)\n",
    "    return accuracy, report\n",
    "\n",
    "# Logistic Regression\n",
    "log_reg = LogisticRegression(max_iter=10000, random_state=42)\n",
    "log_reg_acc, log_reg_report = train_evaluate_model(log_reg, X_train, y_train, X_test, y_test)\n",
    "\n",
    "# Decision Tree\n",
    "tree = DecisionTreeClassifier(random_state=42)\n",
    "tree_acc, tree_report = train_evaluate_model(tree, X_train, y_train, X_test, y_test)\n",
    "\n",
    "# Random Forest\n",
    "forest = RandomForestClassifier(random_state=42)\n",
    "forest_acc, forest_report = train_evaluate_model(forest, X_train, y_train, X_test, y_test)\n",
    "\n",
    "# Gradient Boosting\n",
    "gbc = GradientBoostingClassifier(random_state=42)\n",
    "gbc_acc, gbc_report = train_evaluate_model(gbc, X_train, y_train, X_test, y_test)\n",
    "\n",
    "# Support Vector Machine\n",
    "svc = SVC(random_state=42)\n",
    "svc_acc, svc_report = train_evaluate_model(svc, X_train, y_train, X_test, y_test)\n",
    "\n",
    "# Neural Network using TensorFlow (GPU enabled)\n",
    "model = Sequential([\n",
    "    Dense(64, activation='relu', input_shape=(X_train.shape[1],)),\n",
    "    Dense(64, activation='relu'),\n",
    "    Dense(1, activation='sigmoid')\n",
    "])\n",
    "\n",
    "model.compile(optimizer='adam', loss='binary_crossentropy', metrics=['accuracy'])\n"
   ]
  },
  {
   "cell_type": "markdown",
   "metadata": {},
   "source": [
    "Train and save model"
   ]
  },
  {
   "cell_type": "code",
   "execution_count": null,
   "metadata": {},
   "outputs": [
    {
     "name": "stdout",
     "output_type": "stream",
     "text": [
      "Epoch 1/20\n",
      "\u001b[1m1414/1414\u001b[0m \u001b[32m━━━━━━━━━━━━━━━━━━━━\u001b[0m\u001b[37m\u001b[0m \u001b[1m2s\u001b[0m 865us/step - accuracy: 0.7306 - loss: 0.5305 - val_accuracy: 0.7467 - val_loss: 0.5068\n",
      "Epoch 2/20\n",
      "\u001b[1m1414/1414\u001b[0m \u001b[32m━━━━━━━━━━━━━━━━━━━━\u001b[0m\u001b[37m\u001b[0m \u001b[1m1s\u001b[0m 789us/step - accuracy: 0.7525 - loss: 0.5059 - val_accuracy: 0.7483 - val_loss: 0.5060\n",
      "Epoch 3/20\n",
      "\u001b[1m1414/1414\u001b[0m \u001b[32m━━━━━━━━━━━━━━━━━━━━\u001b[0m\u001b[37m\u001b[0m \u001b[1m1s\u001b[0m 773us/step - accuracy: 0.7589 - loss: 0.4985 - val_accuracy: 0.7478 - val_loss: 0.5063\n",
      "Epoch 4/20\n",
      "\u001b[1m1414/1414\u001b[0m \u001b[32m━━━━━━━━━━━━━━━━━━━━\u001b[0m\u001b[37m\u001b[0m \u001b[1m1s\u001b[0m 779us/step - accuracy: 0.7562 - loss: 0.5008 - val_accuracy: 0.7482 - val_loss: 0.5079\n",
      "Epoch 5/20\n",
      "\u001b[1m1414/1414\u001b[0m \u001b[32m━━━━━━━━━━━━━━━━━━━━\u001b[0m\u001b[37m\u001b[0m \u001b[1m1s\u001b[0m 755us/step - accuracy: 0.7585 - loss: 0.4942 - val_accuracy: 0.7467 - val_loss: 0.5070\n",
      "Epoch 6/20\n",
      "\u001b[1m1414/1414\u001b[0m \u001b[32m━━━━━━━━━━━━━━━━━━━━\u001b[0m\u001b[37m\u001b[0m \u001b[1m1s\u001b[0m 767us/step - accuracy: 0.7571 - loss: 0.4948 - val_accuracy: 0.7479 - val_loss: 0.5111\n",
      "Epoch 7/20\n",
      "\u001b[1m1414/1414\u001b[0m \u001b[32m━━━━━━━━━━━━━━━━━━━━\u001b[0m\u001b[37m\u001b[0m \u001b[1m1s\u001b[0m 749us/step - accuracy: 0.7568 - loss: 0.4994 - val_accuracy: 0.7491 - val_loss: 0.5063\n",
      "Epoch 8/20\n",
      "\u001b[1m1414/1414\u001b[0m \u001b[32m━━━━━━━━━━━━━━━━━━━━\u001b[0m\u001b[37m\u001b[0m \u001b[1m1s\u001b[0m 766us/step - accuracy: 0.7585 - loss: 0.4952 - val_accuracy: 0.7466 - val_loss: 0.5082\n",
      "Epoch 9/20\n",
      "\u001b[1m1414/1414\u001b[0m \u001b[32m━━━━━━━━━━━━━━━━━━━━\u001b[0m\u001b[37m\u001b[0m \u001b[1m1s\u001b[0m 788us/step - accuracy: 0.7559 - loss: 0.4985 - val_accuracy: 0.7494 - val_loss: 0.5065\n",
      "Epoch 10/20\n",
      "\u001b[1m1414/1414\u001b[0m \u001b[32m━━━━━━━━━━━━━━━━━━━━\u001b[0m\u001b[37m\u001b[0m \u001b[1m1s\u001b[0m 790us/step - accuracy: 0.7601 - loss: 0.4939 - val_accuracy: 0.7469 - val_loss: 0.5103\n",
      "Epoch 11/20\n",
      "\u001b[1m1414/1414\u001b[0m \u001b[32m━━━━━━━━━━━━━━━━━━━━\u001b[0m\u001b[37m\u001b[0m \u001b[1m1s\u001b[0m 775us/step - accuracy: 0.7614 - loss: 0.4913 - val_accuracy: 0.7471 - val_loss: 0.5124\n",
      "Epoch 12/20\n",
      "\u001b[1m1414/1414\u001b[0m \u001b[32m━━━━━━━━━━━━━━━━━━━━\u001b[0m\u001b[37m\u001b[0m \u001b[1m1s\u001b[0m 853us/step - accuracy: 0.7576 - loss: 0.4946 - val_accuracy: 0.7487 - val_loss: 0.5093\n",
      "Epoch 13/20\n",
      "\u001b[1m1414/1414\u001b[0m \u001b[32m━━━━━━━━━━━━━━━━━━━━\u001b[0m\u001b[37m\u001b[0m \u001b[1m1s\u001b[0m 820us/step - accuracy: 0.7590 - loss: 0.4963 - val_accuracy: 0.7491 - val_loss: 0.5120\n",
      "Epoch 14/20\n",
      "\u001b[1m1414/1414\u001b[0m \u001b[32m━━━━━━━━━━━━━━━━━━━━\u001b[0m\u001b[37m\u001b[0m \u001b[1m1s\u001b[0m 737us/step - accuracy: 0.7625 - loss: 0.4906 - val_accuracy: 0.7479 - val_loss: 0.5098\n",
      "Epoch 15/20\n",
      "\u001b[1m1414/1414\u001b[0m \u001b[32m━━━━━━━━━━━━━━━━━━━━\u001b[0m\u001b[37m\u001b[0m \u001b[1m1s\u001b[0m 791us/step - accuracy: 0.7635 - loss: 0.4846 - val_accuracy: 0.7459 - val_loss: 0.5142\n",
      "Epoch 16/20\n",
      "\u001b[1m1414/1414\u001b[0m \u001b[32m━━━━━━━━━━━━━━━━━━━━\u001b[0m\u001b[37m\u001b[0m \u001b[1m1s\u001b[0m 773us/step - accuracy: 0.7620 - loss: 0.4896 - val_accuracy: 0.7492 - val_loss: 0.5135\n",
      "Epoch 17/20\n",
      "\u001b[1m1414/1414\u001b[0m \u001b[32m━━━━━━━━━━━━━━━━━━━━\u001b[0m\u001b[37m\u001b[0m \u001b[1m1s\u001b[0m 788us/step - accuracy: 0.7643 - loss: 0.4843 - val_accuracy: 0.7458 - val_loss: 0.5135\n",
      "Epoch 18/20\n",
      "\u001b[1m1414/1414\u001b[0m \u001b[32m━━━━━━━━━━━━━━━━━━━━\u001b[0m\u001b[37m\u001b[0m \u001b[1m1s\u001b[0m 782us/step - accuracy: 0.7614 - loss: 0.4898 - val_accuracy: 0.7436 - val_loss: 0.5204\n",
      "Epoch 19/20\n",
      "\u001b[1m1414/1414\u001b[0m \u001b[32m━━━━━━━━━━━━━━━━━━━━\u001b[0m\u001b[37m\u001b[0m \u001b[1m1s\u001b[0m 784us/step - accuracy: 0.7653 - loss: 0.4828 - val_accuracy: 0.7466 - val_loss: 0.5141\n",
      "Epoch 20/20\n",
      "\u001b[1m1414/1414\u001b[0m \u001b[32m━━━━━━━━━━━━━━━━━━━━\u001b[0m\u001b[37m\u001b[0m \u001b[1m1s\u001b[0m 780us/step - accuracy: 0.7682 - loss: 0.4847 - val_accuracy: 0.7450 - val_loss: 0.5145\n"
     ]
    },
    {
     "name": "stderr",
     "output_type": "stream",
     "text": [
      "WARNING:absl:You are saving your model as an HDF5 file via `model.save()` or `keras.saving.save_model(model)`. This file format is considered legacy. We recommend using instead the native Keras format, e.g. `model.save('my_model.keras')` or `keras.saving.save_model(model, 'my_model.keras')`. \n"
     ]
    }
   ],
   "source": [
    "# Train the model\n",
    "history = model.fit(X_train, y_train, epochs=20, batch_size=32, validation_split=0.2, verbose=1)\n",
    "\n",
    "#save the model\n",
    "model.save('diabetes_model.h5')"
   ]
  },
  {
   "cell_type": "markdown",
   "metadata": {},
   "source": [
    "Load the model and do predition using different algorithm"
   ]
  },
  {
   "cell_type": "code",
   "execution_count": null,
   "metadata": {},
   "outputs": [
    {
     "name": "stderr",
     "output_type": "stream",
     "text": [
      "WARNING:absl:Compiled the loaded model, but the compiled metrics have yet to be built. `model.compile_metrics` will be empty until you train or evaluate the model.\n"
     ]
    },
    {
     "name": "stdout",
     "output_type": "stream",
     "text": [
      "\u001b[1m1/1\u001b[0m \u001b[32m━━━━━━━━━━━━━━━━━━━━\u001b[0m\u001b[37m\u001b[0m \u001b[1m0s\u001b[0m 33ms/step\n",
      "[[0.6143942]]\n",
      "Diabetes\n",
      "\u001b[1m1/1\u001b[0m \u001b[32m━━━━━━━━━━━━━━━━━━━━\u001b[0m\u001b[37m\u001b[0m \u001b[1m0s\u001b[0m 14ms/step\n",
      "[[0.6143942]]\n"
     ]
    }
   ],
   "source": [
    "model = tf.keras.models.load_model('diabetes_model.h5')\n",
    "\n",
    "X_test1 = X_test[0].reshape(1, -1)\n",
    "\n",
    "# do prediction using logistic regression\n",
    "y_pred = model.predict(X_test1)\n",
    "print(y_pred)\n",
    "\n",
    "if(y_pred > 0.5, 1, 0):\n",
    "    print('Diabetes')\n",
    "else:\n",
    "    print('No Diabetes')\n",
    "\n",
    "# do prediction using decision tree\n",
    "y_pred = model.predict(X_test1)\n",
    "print(y_pred)\n",
    "\n"
   ]
  },
  {
   "cell_type": "code",
   "execution_count": null,
   "metadata": {},
   "outputs": [
    {
     "name": "stderr",
     "output_type": "stream",
     "text": [
      "WARNING:absl:Compiled the loaded model, but the compiled metrics have yet to be built. `model.compile_metrics` will be empty until you train or evaluate the model.\n"
     ]
    },
    {
     "name": "stdout",
     "output_type": "stream",
     "text": [
      "\u001b[1m442/442\u001b[0m \u001b[32m━━━━━━━━━━━━━━━━━━━━\u001b[0m\u001b[37m\u001b[0m \u001b[1m0s\u001b[0m 508us/step\n",
      "[[0.6143942 ]\n",
      " [0.46885696]\n",
      " [0.4165317 ]\n",
      " [0.54149127]\n",
      " [0.64332056]]\n",
      "\u001b[1m442/442\u001b[0m \u001b[32m━━━━━━━━━━━━━━━━━━━━\u001b[0m\u001b[37m\u001b[0m \u001b[1m0s\u001b[0m 443us/step\n"
     ]
    },
    {
     "data": {
      "text/plain": [
       "{'Logistic Regression': (0.7464460004243582,\n",
       "  '              precision    recall  f1-score   support\\n\\n         0.0       0.76      0.72      0.74      7090\\n         1.0       0.73      0.77      0.75      7049\\n\\n    accuracy                           0.75     14139\\n   macro avg       0.75      0.75      0.75     14139\\nweighted avg       0.75      0.75      0.75     14139\\n'),\n",
       " 'Decision Tree': (0.6583209562203833,\n",
       "  '              precision    recall  f1-score   support\\n\\n         0.0       0.65      0.68      0.67      7090\\n         1.0       0.66      0.64      0.65      7049\\n\\n    accuracy                           0.66     14139\\n   macro avg       0.66      0.66      0.66     14139\\nweighted avg       0.66      0.66      0.66     14139\\n'),\n",
       " 'Random Forest': (0.7269255251432208,\n",
       "  '              precision    recall  f1-score   support\\n\\n         0.0       0.75      0.69      0.72      7090\\n         1.0       0.71      0.76      0.74      7049\\n\\n    accuracy                           0.73     14139\\n   macro avg       0.73      0.73      0.73     14139\\nweighted avg       0.73      0.73      0.73     14139\\n'),\n",
       " 'Gradient Boosting': (0.7527406464389278,\n",
       "  '              precision    recall  f1-score   support\\n\\n         0.0       0.78      0.71      0.74      7090\\n         1.0       0.73      0.80      0.76      7049\\n\\n    accuracy                           0.75     14139\\n   macro avg       0.75      0.75      0.75     14139\\nweighted avg       0.75      0.75      0.75     14139\\n'),\n",
       " 'SVM': (0.745880189546644,\n",
       "  '              precision    recall  f1-score   support\\n\\n         0.0       0.78      0.69      0.73      7090\\n         1.0       0.72      0.80      0.76      7049\\n\\n    accuracy                           0.75     14139\\n   macro avg       0.75      0.75      0.75     14139\\nweighted avg       0.75      0.75      0.75     14139\\n'),\n",
       " 'Neural Network': (0.7484263181686401,\n",
       "  '              precision    recall  f1-score   support\\n\\n         0.0       0.77      0.71      0.74      7090\\n         1.0       0.73      0.79      0.76      7049\\n\\n    accuracy                           0.75     14139\\n   macro avg       0.75      0.75      0.75     14139\\nweighted avg       0.75      0.75      0.75     14139\\n')}"
      ]
     },
     "execution_count": 30,
     "metadata": {},
     "output_type": "execute_result"
    },
    {
     "ename": "",
     "evalue": "",
     "output_type": "error",
     "traceback": [
      "\u001b[1;31mThe Kernel crashed while executing code in the current cell or a previous cell. \n",
      "\u001b[1;31mPlease review the code in the cell(s) to identify a possible cause of the failure. \n",
      "\u001b[1;31mClick <a href='https://aka.ms/vscodeJupyterKernelCrash'>here</a> for more info. \n",
      "\u001b[1;31mView Jupyter <a href='command:jupyter.viewOutput'>log</a> for further details."
     ]
    }
   ],
   "source": [
    "\n",
    "\n",
    "# Load the model\n",
    "model = tf.keras.models.load_model('diabetes_model.h5')\n",
    "\n",
    "#use the model to make predictions\n",
    "predictions = model.predict(X_test)\n",
    "print(predictions[:5])\n",
    "\n",
    "# Evaluate the model\n",
    "nn_loss, nn_acc = model.evaluate(X_test, y_test, verbose=0)\n",
    "y_pred_nn = (model.predict(X_test) > 0.5).astype(\"int32\")\n",
    "nn_report = classification_report(y_test, y_pred_nn)\n",
    "\n",
    "# Output results\n",
    "results = {\n",
    "    \"Logistic Regression\": (log_reg_acc, log_reg_report),\n",
    "    \"Decision Tree\": (tree_acc, tree_report),\n",
    "    \"Random Forest\": (forest_acc, forest_report),\n",
    "    \"Gradient Boosting\": (gbc_acc, gbc_report),\n",
    "    \"SVM\": (svc_acc, svc_report),\n",
    "    \"Neural Network\": (nn_acc, nn_report)\n",
    "}\n",
    "\n",
    "results\n",
    "\n",
    "#\n",
    "\n",
    "#evaluate the model\n"
   ]
  },
  {
   "cell_type": "code",
   "execution_count": 4,
   "metadata": {},
   "outputs": [
    {
     "name": "stdout",
     "output_type": "stream",
     "text": [
      "Pandas version: 2.0.3\n",
      "Scikit-learn version: 1.4.1.post1\n",
      "Joblib version: 1.3.2\n"
     ]
    }
   ],
   "source": [
    "   import pandas as pd\n",
    "   import sklearn\n",
    "   import joblib\n",
    "\n",
    "   print(\"Pandas version:\", pd.__version__)\n",
    "   print(\"Scikit-learn version:\", sklearn.__version__)\n",
    "   print(\"Joblib version:\", joblib.__version__)"
   ]
  }
 ],
 "metadata": {
  "kernelspec": {
   "display_name": "Python 3",
   "language": "python",
   "name": "python3"
  },
  "language_info": {
   "codemirror_mode": {
    "name": "ipython",
    "version": 3
   },
   "file_extension": ".py",
   "mimetype": "text/x-python",
   "name": "python",
   "nbconvert_exporter": "python",
   "pygments_lexer": "ipython3",
   "version": "3.10.14"
  }
 },
 "nbformat": 4,
 "nbformat_minor": 2
}
