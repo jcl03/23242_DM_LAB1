{
 "cells": [
  {
   "cell_type": "markdown",
   "metadata": {},
   "source": [
    "**ALL LIBRARY REQUIRED**"
   ]
  },
  {
   "cell_type": "code",
   "execution_count": 2,
   "metadata": {},
   "outputs": [],
   "source": [
    "import pandas as pd\n",
    "from sklearn.preprocessing import StandardScaler, LabelEncoder\n",
    "from sklearn.model_selection import train_test_split\n",
    "from sklearn.utils import resample\n",
    "from sklearn.metrics import accuracy_score, precision_score, recall_score, f1_score, confusion_matrix, roc_auc_score, roc_curve, auc\n",
    "import numpy as np\n",
    "import tensorflow as tf\n",
    "from scipy.stats import sem\n",
    "import joblib\n",
    "import matplotlib.pyplot as plt"
   ]
  },
  {
   "cell_type": "markdown",
   "metadata": {},
   "source": [
    "***DATA PREPROCESSING***"
   ]
  },
  {
   "cell_type": "code",
   "execution_count": 3,
   "metadata": {},
   "outputs": [
    {
     "name": "stderr",
     "output_type": "stream",
     "text": [
      "C:\\Users\\jiach\\AppData\\Local\\Temp\\ipykernel_31116\\1874909134.py:12: FutureWarning: A value is trying to be set on a copy of a DataFrame or Series through chained assignment using an inplace method.\n",
      "The behavior will change in pandas 3.0. This inplace method will never work because the intermediate object on which we are setting values always behaves as a copy.\n",
      "\n",
      "For example, when doing 'df[col].method(value, inplace=True)', try using 'df.method({col: value}, inplace=True)' or df[col] = df[col].method(value) instead, to perform the operation inplace on the original object.\n",
      "\n",
      "\n",
      "  data[col].fillna(data[col].mean(), inplace=True)\n"
     ]
    },
    {
     "name": "stdout",
     "output_type": "stream",
     "text": [
      "Preprocessing completed. Preprocessed data saved as preprocessed_data.csv\n",
      "Preprocessed data preview:\n",
      "        Age       Sex  HighChol  CholCheck       BMI  Smoker  \\\n",
      "0 -1.607237  1.090046       0.0        1.0 -0.542176     0.0   \n",
      "1  1.197681  1.090046       1.0        1.0 -0.542176     1.0   \n",
      "2  1.548296  1.090046       0.0        1.0 -0.542176     0.0   \n",
      "3  0.847066  1.090046       1.0        1.0 -0.261036     1.0   \n",
      "4 -0.204778 -0.917392       0.0        1.0 -0.120466     1.0   \n",
      "\n",
      "   HeartDiseaseorAttack  PhysActivity  Fruits  Veggies  HvyAlcoholConsump  \\\n",
      "0                   0.0           1.0     0.0      1.0                0.0   \n",
      "1                   0.0           0.0     1.0      0.0                0.0   \n",
      "2                   0.0           1.0     1.0      1.0                0.0   \n",
      "3                   0.0           1.0     1.0      1.0                0.0   \n",
      "4                   0.0           1.0     1.0      1.0                0.0   \n",
      "\n",
      "    GenHlth  MentHlth  PhysHlth  DiffWalk  Stroke  HighBP  Diabetes  \n",
      "0  0.146304  0.153020  2.404008       0.0     0.0     1.0       0.0  \n",
      "1  0.146304 -0.460058 -0.577451       0.0     1.0     1.0       0.0  \n",
      "2 -1.649743 -0.460058  0.416369       0.0     0.0     0.0       0.0  \n",
      "3  0.146304 -0.460058 -0.279305       0.0     0.0     1.0       0.0  \n",
      "4 -0.751719 -0.460058 -0.577451       0.0     0.0     0.0       0.0   \n",
      "\n"
     ]
    }
   ],
   "source": [
    "# Load the dataset\n",
    "url = 'https://p16-bot-sign-sg.ciciai.com/tos-alisg-i-b2l6bve69y-sg/0a542996a2e74931b9a17cc3fb593feb.csv~tplv-b2l6bve69y-image.image?rk3s=68e6b6b5&x-expires=1719816096&x-signature=hvoff8lKbCLE4lp7Nfk5Cir9yn4%3D'\n",
    "data = pd.read_csv(url)\n",
    "\n",
    "# Handling Missing Values\n",
    "# Fill missing values with the mean of the column\n",
    "numerical_cols = data.select_dtypes(include=['float64', 'int64']).columns\n",
    "ordinal_binary_cols = ['HighChol', 'CholCheck', 'Smoker', 'HeartDiseaseorAttack', 'PhysActivity', 'Fruits', 'Veggies', 'HvyAlcoholConsump', 'DiffWalk', 'Stroke', 'HighBP', 'Diabetes']\n",
    "\n",
    "for col in numerical_cols:\n",
    "    if col not in ordinal_binary_cols:\n",
    "        data[col].fillna(data[col].mean(), inplace=True)\n",
    "\n",
    "# Normalizing Numerical Features\n",
    "scaler = StandardScaler()\n",
    "for col in numerical_cols:\n",
    "    if col not in ordinal_binary_cols:\n",
    "        data[col] = scaler.fit_transform(data[[col]])\n",
    "\n",
    "# Save the preprocessed dataset\n",
    "data.to_csv('preprocessed_data.csv', index=False)\n",
    "\n",
    "print('Preprocessing completed. Preprocessed data saved as preprocessed_data.csv')\n",
    "print('Preprocessed data preview:')\n",
    "print(data.head(), '\\n')"
   ]
  },
  {
   "cell_type": "markdown",
   "metadata": {},
   "source": [
    "***SAMPLING***"
   ]
  },
  {
   "cell_type": "code",
   "execution_count": 4,
   "metadata": {},
   "outputs": [],
   "source": [
    "from sklearn.model_selection import train_test_split\n",
    "\n",
    "X = data.drop(columns=['Diabetes'])\n",
    "y = data['Diabetes']\n",
    "y = y.apply(lambda x: 1 if x > 0 else 0)\n",
    "\n",
    "# Split the data into training and testing sets\n",
    "X_train, X_test, y_train, y_test = train_test_split(X, y, test_size=0.2, random_state=42)"
   ]
  },
  {
   "cell_type": "code",
   "execution_count": 5,
   "metadata": {},
   "outputs": [],
   "source": [
    "# Standardize the data\n",
    "scaler = StandardScaler()\n",
    "X_train = scaler.fit_transform(X_train)\n",
    "X_test = scaler.transform(X_test)\n",
    "\n",
    "# Convert data to TensorFlow tensors\n",
    "X_train_tensor = tf.convert_to_tensor(X_train, dtype=tf.float32)\n",
    "X_test_tensor = tf.convert_to_tensor(X_test, dtype=tf.float32)\n",
    "y_train_tensor = tf.convert_to_tensor(y_train.values, dtype=tf.float32)\n",
    "y_test_tensor = tf.convert_to_tensor(y_test.values, dtype=tf.float32)\n"
   ]
  },
  {
   "cell_type": "markdown",
   "metadata": {},
   "source": [
    "***MODEL BUILDING*** ***(LOGITIC REGRESSION)***"
   ]
  },
  {
   "cell_type": "code",
   "execution_count": 6,
   "metadata": {},
   "outputs": [],
   "source": [
    "class LogisticRegressionModel(tf.keras.Model):\n",
    "    def __init__(self, input_dim):\n",
    "        super(LogisticRegressionModel, self).__init__()\n",
    "        self.linear = tf.keras.layers.Dense(1, activation='sigmoid')\n",
    "    \n",
    "    def call(self, inputs):\n",
    "        return self.linear(inputs)\n"
   ]
  },
  {
   "cell_type": "markdown",
   "metadata": {},
   "source": [
    "***MODEL BUILDING (SVM)***"
   ]
  },
  {
   "cell_type": "code",
   "execution_count": 7,
   "metadata": {},
   "outputs": [],
   "source": [
    "class SVMModel(tf.keras.Model):\n",
    "    def __init__(self, input_dim):\n",
    "        super(SVMModel, self).__init__()\n",
    "        self.linear = tf.keras.layers.Dense(1, kernel_regularizer=tf.keras.regularizers.l2(0.01))\n",
    "    \n",
    "    def call(self, inputs):\n",
    "        return self.linear(inputs)"
   ]
  },
  {
   "cell_type": "markdown",
   "metadata": {},
   "source": [
    "*Initialize the models, loss functions, and optimizer*"
   ]
  },
  {
   "cell_type": "code",
   "execution_count": 8,
   "metadata": {},
   "outputs": [],
   "source": [
    "input_dim = X_train.shape[1]\n",
    "binary_crossentropy = tf.keras.losses.BinaryCrossentropy()\n",
    "hinge_loss = tf.keras.losses.Hinge()\n",
    "optimizer = tf.keras.optimizers.Adam(learning_rate=0.01)"
   ]
  },
  {
   "cell_type": "markdown",
   "metadata": {},
   "source": [
    "***MODEL_TRAINING*** ***(LOGITIC REGRESSION)***"
   ]
  },
  {
   "cell_type": "code",
   "execution_count": 9,
   "metadata": {},
   "outputs": [],
   "source": [
    "def train_model(model, X_train, y_train, loss_fn, epochs=100):\n",
    "    for epoch in range(epochs):\n",
    "        with tf.GradientTape() as tape:\n",
    "            logits = model(X_train)\n",
    "            loss = loss_fn(y_train, logits)\n",
    "            regularization_loss = tf.reduce_sum(model.losses)\n",
    "            total_loss = loss + regularization_loss\n",
    "        \n",
    "        gradients = tape.gradient(total_loss, model.trainable_variables)\n",
    "        optimizer.apply_gradients(zip(gradients, model.trainable_variables))\n",
    "        \n",
    "        if (epoch + 1) % 10 == 0:\n",
    "            print(f'Epoch [{epoch+1}/{epochs}], Loss: {total_loss.numpy():.4f}')\n"
   ]
  },
  {
   "cell_type": "markdown",
   "metadata": {},
   "source": [
    "**MODEL EVALUATION**"
   ]
  },
  {
   "cell_type": "code",
   "execution_count": 10,
   "metadata": {},
   "outputs": [],
   "source": [
    "def evaluate_model(model, X_test, y_test):\n",
    "    logits = model(X_test)\n",
    "    predictions = tf.round(tf.sigmoid(logits)) if isinstance(model, LogisticRegressionModel) else tf.sign(logits)\n",
    "    predictions = tf.squeeze(predictions)\n",
    "    y_test_numpy = y_test.numpy()\n",
    "    predictions_numpy = predictions.numpy() if isinstance(model, LogisticRegressionModel) else (predictions.numpy() + 1) / 2  # Convert -1/1 to 0/1\n",
    "    \n",
    "    # Calculate accuracy\n",
    "    accuracy = accuracy_score(y_test_numpy, predictions_numpy)\n",
    "    \n",
    "    # Calculate precision\n",
    "    precision = precision_score(y_test_numpy, predictions_numpy)\n",
    "    \n",
    "    # Calculate sensitivity (recall)\n",
    "    recall = recall_score(y_test_numpy, predictions_numpy)\n",
    "    \n",
    "    # Calculate F1 score\n",
    "    f1 = f1_score(y_test_numpy, predictions_numpy)\n",
    "    \n",
    "    # Calculate confusion matrix\n",
    "    tn, fp, fn, tp = confusion_matrix(y_test_numpy, predictions_numpy).ravel()\n",
    "\n",
    "    # Calculate ROC AUC\n",
    "    probabilities = tf.sigmoid(logits).numpy()\n",
    "    roc_auc = roc_auc_score(y_test_numpy, probabilities)\n",
    "    \n",
    "    return accuracy, precision, recall, f1, roc_auc, tn, fp, fn, tp"
   ]
  },
  {
   "cell_type": "markdown",
   "metadata": {},
   "source": [
    "***100 evaluations using bootstrapping***"
   ]
  },
  {
   "cell_type": "code",
   "execution_count": 11,
   "metadata": {},
   "outputs": [
    {
     "name": "stdout",
     "output_type": "stream",
     "text": [
      "Training Logistic Regression Model\n",
      "Epoch [10/100], Loss: 0.6520\n",
      "Epoch [20/100], Loss: 0.5918\n",
      "Epoch [30/100], Loss: 0.5612\n",
      "Epoch [40/100], Loss: 0.5440\n",
      "Epoch [50/100], Loss: 0.5336\n",
      "Epoch [60/100], Loss: 0.5264\n",
      "Epoch [70/100], Loss: 0.5214\n",
      "Epoch [80/100], Loss: 0.5180\n",
      "Epoch [90/100], Loss: 0.5155\n",
      "Epoch [100/100], Loss: 0.5138\n",
      "Training SVM Model\n",
      "Epoch [10/100], Loss: 0.8850\n",
      "Epoch [20/100], Loss: 0.7287\n",
      "Epoch [30/100], Loss: 0.6614\n",
      "Epoch [40/100], Loss: 0.6251\n",
      "Epoch [50/100], Loss: 0.6026\n",
      "Epoch [60/100], Loss: 0.5941\n",
      "Epoch [70/100], Loss: 0.5892\n",
      "Epoch [80/100], Loss: 0.5872\n",
      "Epoch [90/100], Loss: 0.5862\n",
      "Epoch [100/100], Loss: 0.5858\n",
      "Training Logistic Regression Model\n",
      "Epoch [10/100], Loss: 0.6409\n",
      "Epoch [20/100], Loss: 0.5809\n",
      "Epoch [30/100], Loss: 0.5461\n",
      "Epoch [40/100], Loss: 0.5270\n",
      "Epoch [50/100], Loss: 0.5184\n",
      "Epoch [60/100], Loss: 0.5146\n",
      "Epoch [70/100], Loss: 0.5131\n",
      "Epoch [80/100], Loss: 0.5126\n",
      "Epoch [90/100], Loss: 0.5124\n",
      "Epoch [100/100], Loss: 0.5124\n",
      "Training SVM Model\n",
      "Epoch [10/100], Loss: 0.8105\n",
      "Epoch [20/100], Loss: 0.6708\n",
      "Epoch [30/100], Loss: 0.6316\n",
      "Epoch [40/100], Loss: 0.6076\n",
      "Epoch [50/100], Loss: 0.5968\n",
      "Epoch [60/100], Loss: 0.5938\n",
      "Epoch [70/100], Loss: 0.5919\n",
      "Epoch [80/100], Loss: 0.5911\n",
      "Epoch [90/100], Loss: 0.5908\n",
      "Epoch [100/100], Loss: 0.5906\n",
      "Training Logistic Regression Model\n",
      "Epoch [10/100], Loss: 0.7130\n",
      "Epoch [20/100], Loss: 0.6472\n",
      "Epoch [30/100], Loss: 0.6092\n",
      "Epoch [40/100], Loss: 0.5844\n",
      "Epoch [50/100], Loss: 0.5676\n",
      "Epoch [60/100], Loss: 0.5559\n",
      "Epoch [70/100], Loss: 0.5472\n",
      "Epoch [80/100], Loss: 0.5404\n",
      "Epoch [90/100], Loss: 0.5352\n",
      "Epoch [100/100], Loss: 0.5310\n",
      "Training SVM Model\n",
      "Epoch [10/100], Loss: 0.8429\n",
      "Epoch [20/100], Loss: 0.6750\n",
      "Epoch [30/100], Loss: 0.6172\n",
      "Epoch [40/100], Loss: 0.6025\n",
      "Epoch [50/100], Loss: 0.5994\n",
      "Epoch [60/100], Loss: 0.5979\n",
      "Epoch [70/100], Loss: 0.5969\n",
      "Epoch [80/100], Loss: 0.5965\n",
      "Epoch [90/100], Loss: 0.5963\n",
      "Epoch [100/100], Loss: 0.5963\n",
      "INFO:tensorflow:Assets written to: ram://2646b2f1-372f-48ba-9dbd-43ac449d76a1/assets\n",
      "INFO:tensorflow:Assets written to: ram://ae1ca10e-a5b8-4392-b6b7-3ca10a5a4244/assets\n"
     ]
    },
    {
     "data": {
      "text/plain": [
       "['svm_model.pkl']"
      ]
     },
     "execution_count": 11,
     "metadata": {},
     "output_type": "execute_result"
    }
   ],
   "source": [
    "num_evaluations = 3\n",
    "logistic_metrics = []\n",
    "svm_metrics = []\n",
    "best_logistic_model = None\n",
    "best_svm_model = None\n",
    "best_logistic_score = -np.inf\n",
    "best_svm_score = -np.inf\n",
    "\n",
    "for _ in range(num_evaluations):\n",
    "    # Bootstrap sampling\n",
    "    X_resampled, y_resampled = resample(X_train, y_train, n_samples=len(X_train), random_state=None)\n",
    "    \n",
    "    # Convert resampled data to TensorFlow tensors\n",
    "    X_resampled_tensor = tf.convert_to_tensor(X_resampled, dtype=tf.float32)\n",
    "    y_resampled_tensor = tf.convert_to_tensor(y_resampled.values, dtype=tf.float32)\n",
    "    \n",
    "    # Reinitialize the models and optimizer for each iteration\n",
    "    lr_model = LogisticRegressionModel(input_dim)\n",
    "    svm_model = SVMModel(input_dim)\n",
    "    optimizer = tf.keras.optimizers.Adam(learning_rate=0.01)\n",
    "    \n",
    "    # Train the logistic regression model\n",
    "    print(\"Training Logistic Regression Model\")\n",
    "    train_model(lr_model, X_resampled_tensor, y_resampled_tensor, binary_crossentropy)\n",
    "    \n",
    "    # Evaluate the logistic regression model\n",
    "    lr_metrics = evaluate_model(lr_model, X_test_tensor, y_test_tensor)\n",
    "    logistic_metrics.append(lr_metrics)\n",
    "    \n",
    "    # Save the best logistic regression model\n",
    "    if lr_metrics[0] > best_logistic_score:\n",
    "        best_logistic_score = lr_metrics[0]\n",
    "        best_logistic_model = lr_model\n",
    "    \n",
    "    # Train the SVM model\n",
    "    print(\"Training SVM Model\")\n",
    "    train_model(svm_model, X_resampled_tensor, y_resampled_tensor, hinge_loss)\n",
    "    \n",
    "    # Evaluate the SVM model\n",
    "    svm_metrics_evaluation = evaluate_model(svm_model, X_test_tensor, y_test_tensor)\n",
    "    svm_metrics.append(svm_metrics_evaluation)\n",
    "    \n",
    "    # Save the best SVM model\n",
    "    if svm_metrics_evaluation[0] > best_svm_score:\n",
    "        best_svm_score = svm_metrics_evaluation[0]\n",
    "        best_svm_model = svm_model\n",
    "\n",
    "# Save the best models\n",
    "joblib.dump(best_logistic_model, 'logistic_model.pkl')\n",
    "joblib.dump(best_svm_model, 'svm_model.pkl')"
   ]
  },
  {
   "cell_type": "markdown",
   "metadata": {},
   "source": [
    "***Confidence Interval (95%)***"
   ]
  },
  {
   "cell_type": "code",
   "execution_count": 12,
   "metadata": {},
   "outputs": [],
   "source": [
    "def calculate_confidence_interval(data, confidence=0.95):\n",
    "    n = len(data)\n",
    "    mean = np.mean(data)\n",
    "    se = sem(data)\n",
    "    margin_of_error = se * 1.96  # For 95% confidence interval\n",
    "    return mean, margin_of_error\n",
    "\n",
    "# Calculate average metrics for logistic regression\n",
    "logistic_metrics_array = np.array(logistic_metrics)\n",
    "logistic_mean_metrics = np.mean(logistic_metrics_array, axis=0)\n",
    "\n",
    "# Calculate average metrics for SVM\n",
    "svm_metrics_array = np.array(svm_metrics)\n",
    "svm_mean_metrics = np.mean(svm_metrics_array, axis=0)\n",
    "\n",
    "logistic_cis = [calculate_confidence_interval(logistic_metrics_array[:, i]) for i in range(logistic_metrics_array.shape[1])]\n",
    "svm_cis = [calculate_confidence_interval(svm_metrics_array[:, i]) for i in range(svm_metrics_array.shape[1])]"
   ]
  },
  {
   "cell_type": "markdown",
   "metadata": {},
   "source": [
    "***EVALUTION RESULT***"
   ]
  },
  {
   "cell_type": "code",
   "execution_count": 13,
   "metadata": {},
   "outputs": [
    {
     "name": "stdout",
     "output_type": "stream",
     "text": [
      "                 Metric  Logistic Regression Mean Logistic Regression CI  \\\n",
      "0              Accuracy                  0.498550        0.4986 ± 0.0000   \n",
      "1             Precision                  0.498550        0.4986 ± 0.0000   \n",
      "2  Sensitivity (Recall)                  1.000000        1.0000 ± 0.0000   \n",
      "3              F1 Score                  0.665377        0.6654 ± 0.0000   \n",
      "4               ROC AUC                  0.819103        0.8191 ± 0.0069   \n",
      "5    True Positive (TP)                  0.000000        0.0000 ± 0.0000   \n",
      "6    True Negative (TN)               7090.000000     7090.0000 ± 0.0000   \n",
      "7   False Positive (FP)                  0.000000        0.0000 ± 0.0000   \n",
      "8   False Negative (FN)               7049.000000     7049.0000 ± 0.0000   \n",
      "\n",
      "      SVM Mean               SVM CI  \n",
      "0     0.744678      0.7447 ± 0.0016  \n",
      "1     0.722255      0.7223 ± 0.0029  \n",
      "2     0.792737      0.7927 ± 0.0035  \n",
      "3     0.755850      0.7559 ± 0.0011  \n",
      "4     0.822395      0.8224 ± 0.0008  \n",
      "5  4941.000000  4941.0000 ± 38.9213  \n",
      "6  2149.000000  2149.0000 ± 38.9213  \n",
      "7  1461.000000  1461.0000 ± 24.4804  \n",
      "8  5588.000000  5588.0000 ± 24.4804  \n"
     ]
    }
   ],
   "source": [
    "# Create a performance comparison table\n",
    "metrics_names = ['Accuracy', 'Precision', 'Sensitivity (Recall)', 'F1 Score', 'ROC AUC', 'True Positive (TP)', 'True Negative (TN)', 'False Positive (FP)', 'False Negative (FN)']\n",
    "comparison_df = pd.DataFrame({\n",
    "    'Metric': metrics_names,\n",
    "    'Logistic Regression Mean': logistic_mean_metrics,\n",
    "    'Logistic Regression CI': [f'{ci[0]:.4f} ± {ci[1]:.4f}' for ci in logistic_cis],\n",
    "    'SVM Mean': svm_mean_metrics,\n",
    "    'SVM CI': [f'{ci[0]:.4f} ± {ci[1]:.4f}' for ci in svm_cis]\n",
    "})\n",
    "print(comparison_df)"
   ]
  },
  {
   "cell_type": "markdown",
   "metadata": {},
   "source": [
    "***Cost Benefit Analysis (CBA)***"
   ]
  },
  {
   "cell_type": "code",
   "execution_count": 14,
   "metadata": {},
   "outputs": [
    {
     "name": "stdout",
     "output_type": "stream",
     "text": [
      "Cost-Benefit Analysis for Logistic Regression: -41\n",
      "Cost-Benefit Analysis for SVM: -3972\n"
     ]
    }
   ],
   "source": [
    "# Define the cost-benefit analysis function\n",
    "def cost_benefit_analysis(tn, fp, fn, tp, cost_benefit_matrix):\n",
    "    return tn * cost_benefit_matrix[0][0] + fp * cost_benefit_matrix[0][1] + fn * cost_benefit_matrix[1][0] + tp * cost_benefit_matrix[1][1]\n",
    "\n",
    "\n",
    "# Define a hypothetical cost-benefit matrix\n",
    "cost_benefit_matrix = np.array([[0, -1], [-5, 1]])\n",
    "# Perform cost-benefit analysis for the best models\n",
    "best_lr_metrics = evaluate_model(best_logistic_model, X_test_tensor, y_test_tensor)\n",
    "best_svm_metrics = evaluate_model(best_svm_model, X_test_tensor, y_test_tensor)\n",
    "\n",
    "lr_cost_benefit = cost_benefit_analysis(*best_lr_metrics[5:], cost_benefit_matrix)\n",
    "svm_cost_benefit = cost_benefit_analysis(*best_svm_metrics[5:], cost_benefit_matrix)\n",
    "\n",
    "print(f'Cost-Benefit Analysis for Logistic Regression: {lr_cost_benefit}')\n",
    "print(f'Cost-Benefit Analysis for SVM: {svm_cost_benefit}')"
   ]
  },
  {
   "cell_type": "markdown",
   "metadata": {},
   "source": [
    "***ROC Plot***"
   ]
  },
  {
   "cell_type": "code",
   "execution_count": 15,
   "metadata": {},
   "outputs": [
    {
     "data": {
      "image/png": "[encoded data removed]",
      "text/plain": [
       "<Figure size 1000x600 with 1 Axes>"
      ]
     },
     "metadata": {},
     "output_type": "display_data"
    }
   ],
   "source": [
    "logistic_probabilities = tf.sigmoid(best_logistic_model(X_test_tensor)).numpy()\n",
    "svm_probabilities = tf.sigmoid(best_svm_model(X_test_tensor)).numpy()\n",
    "\n",
    "logistic_fpr, logistic_tpr, _ = roc_curve(y_test_tensor, logistic_probabilities)\n",
    "svm_fpr, svm_tpr, _ = roc_curve(y_test_tensor, svm_probabilities)\n",
    "\n",
    "logistic_auc = auc(logistic_fpr, logistic_tpr)\n",
    "svm_auc = auc(svm_fpr, svm_tpr)\n",
    "\n",
    "plt.figure(figsize=(10, 6))\n",
    "plt.plot(logistic_fpr, logistic_tpr, label=f'Logistic Regression (AUC = {logistic_auc:.2f})')\n",
    "plt.plot(svm_fpr, svm_tpr, label=f'SVM (AUC = {svm_auc:.2f})')\n",
    "plt.plot([0, 1], [0, 1], 'k--')\n",
    "plt.xlabel('False Positive Rate')\n",
    "plt.ylabel('True Positive Rate')\n",
    "plt.title('ROC Curve')\n",
    "plt.legend()\n",
    "plt.show()"
   ]
  },
  {
   "cell_type": "code",
   "execution_count": 16,
   "metadata": {},
   "outputs": [],
   "source": [
    "#end of code\n",
    "#release gpu memory\n",
    "from numba import cuda\n",
    "cuda.select_device(0)\n",
    "cuda.close()"
   ]
  }
 ],
 "metadata": {
  "kernelspec": {
   "display_name": "env1",
   "language": "python",
   "name": "python3"
  },
  "language_info": {
   "codemirror_mode": {
    "name": "ipython",
    "version": 3
   },
   "file_extension": ".py",
   "mimetype": "text/x-python",
   "name": "python",
   "nbconvert_exporter": "python",
   "pygments_lexer": "ipython3",
   "version": "3.10.14"
  }
 },
 "nbformat": 4,
 "nbformat_minor": 2
}
